{
 "cells": [
  {
   "cell_type": "code",
   "execution_count": 1,
   "metadata": {},
   "outputs": [
    {
     "data": {
      "text/html": [
       "<div id=\"glowscript\" class=\"glowscript\"></div>"
      ],
      "text/plain": [
       "<IPython.core.display.HTML object>"
      ]
     },
     "metadata": {},
     "output_type": "display_data"
    },
    {
     "data": {
      "application/javascript": [
       "if (typeof Jupyter !== \"undefined\") { window.__context = { glowscript_container: $(\"#glowscript\").removeAttr(\"id\")};}else{ element.textContent = ' ';}"
      ],
      "text/plain": [
       "<IPython.core.display.Javascript object>"
      ]
     },
     "metadata": {},
     "output_type": "display_data"
    }
   ],
   "source": [
    "from vpython import *"
   ]
  },
  {
   "cell_type": "markdown",
   "metadata": {},
   "source": [
    "Primeras pruebas\n",
    "\n",
    "box_1 = box(pos=vector(0,0,0),color = vector(1,1,0),angle=0)\n",
    "dt= 0.1\n",
    "omega = 0.5\n",
    "n = 0\n",
    "\n",
    "while n < 45:\n",
    "    rate(10)\n",
    "    box_1.rotate(axis=vector(0,1,0),angle=omega*dt)\n",
    "    n += 0.1\n",
    "    print(\"value n: \" + str(n))\n",
    "    print(\"value angle: \" + str(box_1.angle))\n",
    "\n",
    "g = shapes.gear(n=20)\n",
    "\n",
    "gear_1 = extrusion(path=[vector(0,0,0),vector(0,0,0.1)], shape=g)\n",
    "\n",
    "g2 = shapes.gear(n=10, radius=0.5)\n",
    "\n",
    "gear_2 = extrusion(path=[vector(1.5,0,0),vector(1.5,0,0.1)], shape=g2,\n",
    "                   color=color.red)\n",
    "                   \n",
    "#gear_2.rotate(axis=vector(0,0,1), angle=0.5*2*pi/10)\n",
    "\n",
    "dt = 0.1 # time step\n",
    "omega = 0.5 # rotational speed\n",
    "\n",
    "while (True):\n",
    "    rate(10)\n",
    "    gear_1.rotate(axis=vector(0,0,1), angle=omega*dt)\n",
    "    gear_2.rotate(axis=vector(0,0,1), angle=-2*omega*dt)\n"
   ]
  },
  {
   "cell_type": "code",
   "execution_count": 2,
   "metadata": {},
   "outputs": [
    {
     "name": "stdout",
     "output_type": "stream",
     "text": [
      "-1\n",
      "-1\n"
     ]
    },
    {
     "data": {
      "application/javascript": [
       "if (typeof Jupyter !== \"undefined\") {require.undef(\"nbextensions/vpython_libraries/glow.min\");}else{element.textContent = ' ';}"
      ],
      "text/plain": [
       "<IPython.core.display.Javascript object>"
      ]
     },
     "metadata": {},
     "output_type": "display_data"
    },
    {
     "data": {
      "application/javascript": [
       "if (typeof Jupyter !== \"undefined\") {require.undef(\"nbextensions/vpython_libraries/glowcomm\");}else{element.textContent = ' ';}"
      ],
      "text/plain": [
       "<IPython.core.display.Javascript object>"
      ]
     },
     "metadata": {},
     "output_type": "display_data"
    },
    {
     "data": {
      "application/javascript": [
       "if (typeof Jupyter !== \"undefined\") {require.undef(\"nbextensions/vpython_libraries/jquery-ui.custom.min\");}else{element.textContent = ' ';}"
      ],
      "text/plain": [
       "<IPython.core.display.Javascript object>"
      ]
     },
     "metadata": {},
     "output_type": "display_data"
    },
    {
     "data": {
      "application/javascript": [
       "if (typeof Jupyter !== \"undefined\") {require([\"nbextensions/vpython_libraries/glow.min\"], function(){console.log(\"GLOW LOADED\");});}else{element.textContent = ' ';}"
      ],
      "text/plain": [
       "<IPython.core.display.Javascript object>"
      ]
     },
     "metadata": {},
     "output_type": "display_data"
    },
    {
     "data": {
      "application/javascript": [
       "if (typeof Jupyter !== \"undefined\") {require([\"nbextensions/vpython_libraries/glowcomm\"], function(){console.log(\"GLOWCOMM LOADED\");});}else{element.textContent = ' ';}"
      ],
      "text/plain": [
       "<IPython.core.display.Javascript object>"
      ]
     },
     "metadata": {},
     "output_type": "display_data"
    },
    {
     "data": {
      "application/javascript": [
       "if (typeof Jupyter !== \"undefined\") {require([\"nbextensions/vpython_libraries/jquery-ui.custom.min\"], function(){console.log(\"JQUERY LOADED\");});}else{element.textContent = ' ';}"
      ],
      "text/plain": [
       "<IPython.core.display.Javascript object>"
      ]
     },
     "metadata": {},
     "output_type": "display_data"
    },
    {
     "name": "stdout",
     "output_type": "stream",
     "text": [
      "-1\n",
      "0\n",
      "-1\n",
      "1\n",
      "0\n",
      "-1\n",
      "0\n",
      "0\n",
      "0\n",
      "1\n",
      "1\n",
      "-1\n",
      "1\n",
      "0\n",
      "1\n",
      "1\n",
      "-1\n",
      "-1\n",
      "-1\n",
      "0\n",
      "-1\n",
      "1\n",
      "0\n",
      "-1\n",
      "0\n",
      "0\n",
      "0\n",
      "1\n",
      "1\n",
      "-1\n",
      "1\n",
      "0\n",
      "1\n",
      "1\n",
      "-1\n",
      "-1\n",
      "-1\n",
      "0\n",
      "-1\n",
      "1\n",
      "0\n",
      "-1\n",
      "0\n",
      "0\n",
      "0\n",
      "1\n",
      "1\n",
      "-1\n",
      "1\n",
      "0\n",
      "1\n",
      "1\n",
      "-1\n",
      "-1\n",
      "-1\n",
      "0\n",
      "-1\n",
      "1\n",
      "0\n",
      "-1\n",
      "0\n",
      "0\n",
      "0\n",
      "1\n",
      "1\n",
      "-1\n",
      "1\n",
      "0\n",
      "1\n",
      "1\n",
      "-1\n",
      "-1\n",
      "-1\n",
      "0\n",
      "-1\n",
      "1\n",
      "0\n",
      "-1\n",
      "0\n",
      "0\n",
      "0\n",
      "1\n",
      "1\n",
      "-1\n",
      "1\n",
      "0\n",
      "1\n",
      "1\n",
      "-1\n",
      "-1\n",
      "-1\n",
      "0\n",
      "-1\n",
      "1\n",
      "0\n",
      "-1\n",
      "0\n",
      "0\n",
      "0\n",
      "1\n",
      "1\n",
      "-1\n",
      "1\n",
      "0\n",
      "1\n",
      "1\n"
     ]
    },
    {
     "ename": "AttributeError",
     "evalue": "'canvas' object has no attribute 'Kb'",
     "output_type": "error",
     "traceback": [
      "\u001b[1;31m---------------------------------------------------------------------------\u001b[0m",
      "\u001b[1;31mAttributeError\u001b[0m                            Traceback (most recent call last)",
      "\u001b[1;32m<ipython-input-2-016c35fc6f08>\u001b[0m in \u001b[0;36m<module>\u001b[1;34m\u001b[0m\n\u001b[0;32m     42\u001b[0m \u001b[1;32mwhile\u001b[0m \u001b[1;32mTrue\u001b[0m\u001b[1;33m:\u001b[0m\u001b[1;33m\u001b[0m\u001b[1;33m\u001b[0m\u001b[0m\n\u001b[0;32m     43\u001b[0m     \u001b[1;32mpass\u001b[0m\u001b[1;33m\u001b[0m\u001b[1;33m\u001b[0m\u001b[0m\n\u001b[1;32m---> 44\u001b[1;33m     \u001b[0mkey\u001b[0m\u001b[1;33m=\u001b[0m\u001b[0mscene\u001b[0m\u001b[1;33m.\u001b[0m\u001b[0mKb\u001b[0m\u001b[1;33m.\u001b[0m\u001b[0mgetkey\u001b[0m\u001b[1;33m(\u001b[0m\u001b[1;33m)\u001b[0m\u001b[1;33m\u001b[0m\u001b[1;33m\u001b[0m\u001b[0m\n\u001b[0m\u001b[0;32m     45\u001b[0m \u001b[1;33m\u001b[0m\u001b[0m\n",
      "\u001b[1;31mAttributeError\u001b[0m: 'canvas' object has no attribute 'Kb'"
     ]
    }
   ],
   "source": [
    "#definir los frames por segundo\n",
    "fps=24\n",
    "#diccionario de caras\n",
    "faces={\n",
    "    4:(color.orange),\n",
    "    3:(color.yellow),\n",
    "    6:(color.blue),\n",
    "    5:(color.green),\n",
    "    1:(color.white),\n",
    "    2:(color.red)\n",
    "}\n",
    "\n",
    "stickers = []\n",
    "angulo = 0\n",
    "angulo2 = pi/2\n",
    "\n",
    "#posicion z de la cara\n",
    "for face_color in faces.values():\n",
    "    #Establecer se cumple la media vuelta\n",
    "    if angulo < 2*pi:\n",
    "        #Posicion x de la cara\n",
    "        for x in (-1,0,1):\n",
    "            #Posicion y de la cara\n",
    "            for y in (-1,0,1):\n",
    "                print(x)\n",
    "                print(y)\n",
    "                sticker = box(color=face_color,pos=vector(x,y,1.5),length=0.98,height=0.98,width=0.05)\n",
    "                sticker.rotate(angle=angulo,axis=vector(0,1,0),origin=vector(0,0,0))\n",
    "                stickers.append(sticker)\n",
    "        angulo=angulo+pi/2\n",
    "    else:\n",
    "        #Posicion x de la cara\n",
    "        for x in (-1,0,1):\n",
    "            #Posicion y de la cara\n",
    "            for y in (-1,0,1):\n",
    "                print(x)\n",
    "                print(y)\n",
    "                sticker = box(color=face_color,pos=vector(x,y,1.5),length=0.98,height=0.98,width=0.05)\n",
    "                sticker.rotate(angle=angulo2,axis=vector(1,0,0),origin=vector(0,0,0))\n",
    "                stickers.append(sticker)\n",
    "        angulo2=-pi/2\n",
    "while True:\n",
    "    pass\n",
    "    key=scene.Kb.getkey()\n",
    "                "
   ]
  },
  {
   "cell_type": "code",
   "execution_count": null,
   "metadata": {},
   "outputs": [],
   "source": []
  }
 ],
 "metadata": {
  "kernelspec": {
   "display_name": "Python 3",
   "language": "python",
   "name": "python3"
  },
  "language_info": {
   "codemirror_mode": {
    "name": "ipython",
    "version": 3
   },
   "file_extension": ".py",
   "mimetype": "text/x-python",
   "name": "python",
   "nbconvert_exporter": "python",
   "pygments_lexer": "ipython3",
   "version": "3.7.7"
  }
 },
 "nbformat": 4,
 "nbformat_minor": 4
}
